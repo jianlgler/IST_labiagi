{
  "nbformat": 4,
  "nbformat_minor": 0,
  "metadata": {
    "colab": {
      "provenance": [],
      "collapsed_sections": [],
      "authorship_tag": "ABX9TyNN22XDlON/nG9WFcbPugfo",
      "include_colab_link": true
    },
    "kernelspec": {
      "name": "python3",
      "display_name": "Python 3"
    },
    "language_info": {
      "name": "python"
    },
    "accelerator": "GPU",
    "gpuClass": "standard"
  },
  "cells": [
    {
      "cell_type": "markdown",
      "metadata": {
        "id": "view-in-github",
        "colab_type": "text"
      },
      "source": [
        "<a href=\"https://colab.research.google.com/github/jianlgler/IST_labiagi/blob/main/PyTorch_AdaIN.ipynb\" target=\"_parent\"><img src=\"https://colab.research.google.com/assets/colab-badge.svg\" alt=\"Open In Colab\"/></a>"
      ]
    },
    {
      "cell_type": "code",
      "execution_count": 73,
      "metadata": {
        "id": "HPOmGfbgEdZA"
      },
      "outputs": [],
      "source": [
        "import torch\n",
        "import torch.nn as nn\n",
        "from PIL import Image\n",
        "from torchvision import transforms\n",
        "from torchvision.utils import save_image\n",
        "\n",
        "from ipywidgets import interact, interactive\n",
        "\n",
        "import ipywidgets as widgets\n",
        "\n",
        "import os\n",
        "import sys\n",
        "\n",
        "from google.colab import drive\n",
        "\n",
        "import matplotlib.pyplot as plt"
      ]
    },
    {
      "cell_type": "code",
      "source": [
        "drive.mount(\"/content/data\")\n",
        "\n",
        "!cp -r data/MyDrive/Utils Utils"
      ],
      "metadata": {
        "colab": {
          "base_uri": "https://localhost:8080/"
        },
        "id": "Yb0ZgbjBFPfN",
        "outputId": "e5a94cb7-0139-46bb-a3d5-75a859c622c4"
      },
      "execution_count": 74,
      "outputs": [
        {
          "output_type": "stream",
          "name": "stdout",
          "text": [
            "Drive already mounted at /content/data; to attempt to forcibly remount, call drive.mount(\"/content/data\", force_remount=True).\n"
          ]
        }
      ]
    },
    {
      "cell_type": "code",
      "source": [
        "from Utils import net, utils\n",
        "\n",
        "device = torch.device(\"cuda\" if torch.cuda.is_available() else \"cpu\")"
      ],
      "metadata": {
        "id": "UZPrSsQZFPXV"
      },
      "execution_count": 75,
      "outputs": []
    },
    {
      "cell_type": "code",
      "source": [
        "# Path stuff\n",
        "path = \"./data/MyDrive/images\"\n",
        "sys.path.append(path)\n",
        "\n",
        "style_dir_raw = \"style\"\n",
        "content_dir_raw = \"content\"\n",
        "\n",
        "style_dir = os.path.join(path, style_dir_raw)\n",
        "content_dir = os.path.join(path, content_dir_raw)"
      ],
      "metadata": {
        "id": "_Ig_m7VNF4rM"
      },
      "execution_count": 76,
      "outputs": []
    },
    {
      "cell_type": "code",
      "source": [
        "def style_transfer(vgg, decoder, content, style, alpha=1.0,\n",
        "                   interpolation_weights=None):\n",
        "    assert (0.0 <= alpha <= 1.0)\n",
        "    \n",
        "    content_f = vgg(content)\n",
        "    style_f = vgg(style)\n",
        "    if interpolation_weights:\n",
        "        _, C, H, W = content_f.size()\n",
        "        feat = torch.FloatTensor(1, C, H, W).zero_().to(device)\n",
        "        base_feat = utils.ada_in(content_f, style_f)\n",
        "        for i, w in enumerate(interpolation_weights):\n",
        "            feat = feat + w * base_feat[i:i + 1]\n",
        "        content_f = content_f[0:1]\n",
        "    else:\n",
        "        feat = utils.ada_in(content_f, style_f)\n",
        "    feat = feat * alpha + content_f * (1 - alpha)\n",
        "    return decoder(feat)"
      ],
      "metadata": {
        "id": "9qDERmgGGV2t"
      },
      "execution_count": 77,
      "outputs": []
    },
    {
      "cell_type": "code",
      "source": [
        "transform = transforms.Compose([transforms.Resize(512), transforms.ToTensor()])\n",
        "\n",
        "# setting up the net\n",
        "decoder = net.decoder\n",
        "vgg = net.vgg\n",
        "\n",
        "decoder.eval()\n",
        "vgg.eval()\n",
        "\n",
        "decoder.load_state_dict(torch.load(\"./data/MyDrive/decoder.pth\"))\n",
        "vgg.load_state_dict(torch.load(\"./data/MyDrive/vgg_normalised.pth\"))\n",
        "vgg = nn.Sequential(*list(vgg.children())[:31])\n",
        "\n",
        "vgg.to(device)\n",
        "decoder.to(device)\n",
        "\n",
        "print(\"Done!\")\n",
        "# Parameters\n",
        "#do_interpolation = False\n",
        "\n",
        "#interpolation_weights = 1,1,1,1\n"
      ],
      "metadata": {
        "colab": {
          "base_uri": "https://localhost:8080/"
        },
        "id": "KtkLCV6hGqG9",
        "outputId": "917d1172-11a9-449e-9713-03325892077f"
      },
      "execution_count": 83,
      "outputs": [
        {
          "output_type": "stream",
          "name": "stdout",
          "text": [
            "Done!\n"
          ]
        }
      ]
    },
    {
      "cell_type": "code",
      "source": [
        "def stylize(content, c_path, style, s_path, preserve_color, alpha):\n",
        "  # Pre-operations\n",
        "\n",
        "  content_img = transform(Image.open(os.path.join(c_path, content)))\n",
        "  style_img = transform(Image.open(os.path.join(s_path, style)))\n",
        "\n",
        "  if(preserve_color):\n",
        "      style_img = utils.preserve_color(style_img, content_img)\n",
        "\n",
        "  style_img = style_img.to(device).unsqueeze(0)\n",
        "  content_img = content_img.to(device).unsqueeze(0)\n",
        "  ###########################################################\n",
        "  with torch.no_grad():\n",
        "    output = style_transfer(vgg, decoder, content_img, style_img,\n",
        "                            alpha)\n",
        "  ###########################################################\n",
        "  color_add = \"\"\n",
        "  if preserve_color:\n",
        "      color_add = \"preserved\"\n",
        "  output = output.cpu()\n",
        "  output_name = '{:s}_stylized_{:s}_{:s}_{:s}'.format(os.path.splitext(content)[0], \n",
        "                                                os.path.splitext(style)[0], str(alpha), color_add)\n",
        "  output_name += \".jpg\"\n",
        "\n",
        "  print(output_name)\n",
        "\n",
        "  output_dir = os.path.join(path, \"output\")\n",
        "  \n",
        "  save_image(output, os.path.join(output_dir, output_name))\n",
        "  utils.display(output_name, output_dir)\n",
        "  "
      ],
      "metadata": {
        "id": "tjm1lbkDLiTV"
      },
      "execution_count": 84,
      "outputs": []
    },
    {
      "cell_type": "code",
      "source": [
        "# Set up a subplot grid that has height 2 and width 1,\n",
        "# and set the first such subplot as active.\n",
        "interact(utils.display, x = os.listdir(content_dir), path = content_dir)\n",
        "interact(utils.display, x = os.listdir(style_dir), path = style_dir)"
      ],
      "metadata": {
        "id": "3Vi8JMLGH6is"
      },
      "execution_count": null,
      "outputs": []
    },
    {
      "cell_type": "code",
      "source": [
        "interact(stylize, content=os.listdir(content_dir), \n",
        "         c_path=content_dir, style=os.listdir(style_dir), s_path=style_dir,\n",
        "         preserve_color=False, alpha=widgets.FloatSlider(min=0, max=1.0, step=0.01, value=1))"
      ],
      "metadata": {
        "id": "kRfsnipLNzYs"
      },
      "execution_count": null,
      "outputs": []
    }
  ]
}